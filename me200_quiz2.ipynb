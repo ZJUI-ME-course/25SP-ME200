{
 "cells": [
  {
   "cell_type": "code",
   "execution_count": 4,
   "id": "b9c2126c",
   "metadata": {},
   "outputs": [
    {
     "name": "stdout",
     "output_type": "stream",
     "text": [
      "0.957725587144623\n"
     ]
    }
   ],
   "source": [
    "# \n",
    "from sympy import *\n",
    "\n",
    "hl=394;hg=1203\n",
    "\n",
    "h2=1168.8\n",
    "\n",
    "x=S('x')\n",
    "q1=hl*(1-x)+hg*(x)-h2\n",
    "\n",
    "x=(hl-h2)/(hl-hg)\n",
    "print(x)\n"
   ]
  }
 ],
 "metadata": {
  "kernelspec": {
   "display_name": "Python 3",
   "language": "python",
   "name": "python3"
  },
  "language_info": {
   "codemirror_mode": {
    "name": "ipython",
    "version": 3
   },
   "file_extension": ".py",
   "mimetype": "text/x-python",
   "name": "python",
   "nbconvert_exporter": "python",
   "pygments_lexer": "ipython3",
   "version": "3.9.6"
  }
 },
 "nbformat": 4,
 "nbformat_minor": 5
}
