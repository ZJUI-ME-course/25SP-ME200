{
 "cells": [
  {
   "cell_type": "code",
   "execution_count": null,
   "metadata": {},
   "outputs": [],
   "source": [
    "# # 1\n",
    "\n",
    "\n",
    "\n",
    "\n",
    "\n",
    "\n",
    "\n",
    "\n",
    "\n",
    "\n",
    "\n",
    "\n",
    "\n",
    "\n",
    "\n",
    "\n",
    "\n"
   ]
  },
  {
   "cell_type": "code",
   "execution_count": 3,
   "metadata": {},
   "outputs": [
    {
     "name": "stdout",
     "output_type": "stream",
     "text": [
      "v1 = 0.0000 m³/kg, u1 = 1084.7 kJ/kg\n"
     ]
    }
   ],
   "source": [
    "import CoolProp.CoolProp as CP\n",
    "\n",
    "# 示例：计算状态1的比容和内能\n",
    "p1 = 10 * 1e5  # 10 bar → Pa\n",
    "x1 = 0.6\n",
    "v1 = CP.PropsSI('V', 'P', p1, 'Q', x1, 'ammonia')  # 比容 (m³/kg)\n",
    "u1 = CP.PropsSI('U', 'P', p1, 'Q', x1, 'ammonia')  # 内能 (J/kg)\n",
    "print(f\"v1 = {v1:.4f} m³/kg, u1 = {u1/1e3:.1f} kJ/kg\")\n"
   ]
  }
 ],
 "metadata": {
  "kernelspec": {
   "display_name": "Python 3",
   "language": "python",
   "name": "python3"
  },
  "language_info": {
   "codemirror_mode": {
    "name": "ipython",
    "version": 3
   },
   "file_extension": ".py",
   "mimetype": "text/x-python",
   "name": "python",
   "nbconvert_exporter": "python",
   "pygments_lexer": "ipython3",
   "version": "3.12.6"
  }
 },
 "nbformat": 4,
 "nbformat_minor": 2
}
