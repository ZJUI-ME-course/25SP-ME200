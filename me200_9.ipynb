{
 "cells": [
  {
   "cell_type": "code",
   "execution_count": null,
   "id": "7ea899e4",
   "metadata": {},
   "outputs": [],
   "source": [
    "# 9.1\n"
   ]
  },
  {
   "cell_type": "code",
   "execution_count": null,
   "id": "63fe371c",
   "metadata": {},
   "outputs": [],
   "source": [
    "# 9.2"
   ]
  }
 ],
 "metadata": {
  "language_info": {
   "name": "python"
  }
 },
 "nbformat": 4,
 "nbformat_minor": 5
}
