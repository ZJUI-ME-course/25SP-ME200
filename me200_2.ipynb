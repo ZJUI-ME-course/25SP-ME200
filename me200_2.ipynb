{
 "cells": [
  {
   "cell_type": "code",
   "execution_count": null,
   "metadata": {},
   "outputs": [],
   "source": []
  },
  {
   "cell_type": "code",
   "execution_count": null,
   "metadata": {},
   "outputs": [
    {
     "name": "stdout",
     "output_type": "stream",
     "text": [
      "6202.30908682976\n",
      "-15.4936292375610\n"
     ]
    }
   ],
   "source": [
    "# 1\n",
    "# ============\n",
    "\n",
    "p1=2.75\n",
    "v1=0.0212\n",
    "p2=8.75\n",
    "q=8.17\n",
    "m=0.127\n",
    "# ============\n",
    "\n",
    "\n",
    "p1=p1*10**5\n",
    "p2=p2*10**5\n",
    "q=q*10**3\n",
    "\n",
    "\n",
    "v2=v1*(p1/p2)**(1/1.2)\n",
    "# print(v2)\n",
    "\n",
    "\n",
    "# w=(p1+p2)*(v1-v2)/2\n",
    "# print(w)\n",
    "\n",
    "from sympy import *\n",
    "v=S('v')\n",
    "p=p1*v1**1.2/v**1.2\n",
    "w=integrate(p,(v,v2,v1))\n",
    "print(w)\n",
    "\n",
    "print((w-q)/1000/m)\n",
    "\n",
    "\n",
    "# 出现过的问题\n",
    "# 1 q是输出还是输入\n",
    "# 2 单位就变成 pa j主导的就行\n",
    "# 3 保持pv一直相等，所以是积分，而不是直线\n",
    "# 4 对p直接积分，不是对p*v\n",
    "# 5 一开始就要把单位统一  \n"
   ]
  },
  {
   "cell_type": "code",
   "execution_count": null,
   "metadata": {},
   "outputs": [
    {
     "name": "stdout",
     "output_type": "stream",
     "text": [
      "170.8868181818182\n",
      "101.846200000000\n",
      "222.406200000000\n"
     ]
    }
   ],
   "source": [
    "# 2\n",
    "\n",
    "from sympy import *\n",
    "x=S('x')\n",
    "# ===========\n",
    "x1=0.08\n",
    "k=8330\n",
    "m1=39\n",
    "m2=0.88e-3\n",
    "A=0.0055\n",
    "# ===========\n",
    "\n",
    "\n",
    "g=9.81\n",
    "patm=101.325\n",
    "a=patm+m1*g/(A)/1000\n",
    "print(a)\n",
    "\n",
    "w=integrate(k*x,(x,0,x1))+m1*g*x1+patm*A*x1*1000\n",
    "print(w)\n",
    "\n",
    "# ===========\n",
    "i1=193\n",
    "i2=330\n",
    "# ===========\n",
    "\n",
    "\n",
    "u1=m2*i1*1000\n",
    "u2=m2*i2*1000\n",
    "\n",
    "u=u2-u1\n",
    "print(u+w)\n",
    "\n",
    "\n",
    "\n",
    "# 170.8868181818182\n",
    "# 101.846200000000\n",
    "# 222.406200000000\n"
   ]
  },
  {
   "cell_type": "code",
   "execution_count": null,
   "metadata": {},
   "outputs": [
    {
     "name": "stdout",
     "output_type": "stream",
     "text": [
      "26.2196032531717 18.504972288\n",
      "-7.71463096517166\n",
      "-73.5196032531717\n"
     ]
    }
   ],
   "source": [
    "# 1 ft³ = 1728 in³\n",
    "# 1 btu = 0.00011 lb*in\n",
    "# \n",
    "p1=50 # lb/in**2\n",
    "v1=5 # ft**3\n",
    "v2=3 # ft**3\n",
    "u31=47.3 # btu\n",
    "\n",
    "\n",
    "v1=v1*1728 # in**3\n",
    "v2=v2*1728 # in**3\n",
    "\n",
    "\n",
    "p2=p1*(v1/v2)**1.4\n",
    "# print(p2)\n",
    "\n",
    "# print((p2*v2-p1*v1)/-0.4)\n",
    "\n",
    "from sympy import *\n",
    "v=S('v')\n",
    "p=p1*v1**1.4/v**1.4\n",
    "\n",
    "w1=integrate(p,(v,v2,v1))\n",
    "# print(w1/1055.06)\n",
    "# print(w1*0.00011)\n",
    "# print((p1*v1-p2*v2)/(1.4-1)*0.00010708896 )\n",
    "\n",
    "w3=p1*(v1-v2)\n",
    "\n",
    "\n",
    "w1=w1*0.00010708896 \n",
    "w3=w3*0.00010708896 \n",
    "\n",
    "print(w1,w3)\n",
    "\n",
    "\n",
    "wcycle=-(w1-w3)\n",
    "print(wcycle)\n",
    "\n",
    "\n",
    "print(-w1-u31)\n",
    "\n",
    "\n",
    "# 为什么放热 正负号\n",
    "\n"
   ]
  },
  {
   "cell_type": "code",
   "execution_count": null,
   "metadata": {},
   "outputs": [
    {
     "name": "stdout",
     "output_type": "stream",
     "text": [
      "110.783274349278\n"
     ]
    }
   ],
   "source": [
    "p1=53 # lb/in**2\n",
    "v1=5 # ft**3\n",
    "v2=1 # ft**3\n",
    "u31=46 # btu\n",
    "\n",
    "\n",
    "u31=u31*1055.06 # btu\n",
    "p1=p1*6894.76 # lb/in**2\n",
    "\n",
    "\n",
    "\n",
    "\n",
    "v1=v1*0.0283168 # m**3\n",
    "v2=v2*0.0283168 # in**3\n",
    "p2=p1*(v1/v2)**1.4\n",
    "\n",
    "from sympy import *\n",
    "v=S('v')\n",
    "p=p1*v1**1.4/v**1.4\n",
    "\n",
    "w1=integrate(p,(v,v2,v1))\n",
    "print(w1/1055.06)\n",
    "\n"
   ]
  },
  {
   "cell_type": "code",
   "execution_count": null,
   "metadata": {},
   "outputs": [
    {
     "data": {
      "text/plain": [
       "1728"
      ]
     },
     "execution_count": 73,
     "metadata": {},
     "output_type": "execute_result"
    }
   ],
   "source": [
    "12**3\n"
   ]
  },
  {
   "cell_type": "code",
   "execution_count": null,
   "metadata": {},
   "outputs": [
    {
     "name": "stdout",
     "output_type": "stream",
     "text": [
      "16.0 -8.0 0\n",
      "34.0 -31.0\n",
      "0.20512820512820512\n"
     ]
    }
   ],
   "source": [
    "# 4\n",
    "u1=18\n",
    "q3=5\n",
    "\n",
    "\n",
    "# v变大，w正\n",
    "w1=(5+3)*(5-1)/2\n",
    "w2=-(3+1)*(5-1)/2\n",
    "w3=0\n",
    "print(w1,w2,w3)\n",
    "\n",
    "u23=-u1\n",
    "\n",
    "q1=u1+w1\n",
    "\n",
    "q2=u23+w2+w3-q3\n",
    "print(q1,q2)\n",
    "\n",
    "eta=(q1+q3+q2)/(q1+q3)\n",
    "print(eta)\n"
   ]
  }
 ],
 "metadata": {
  "kernelspec": {
   "display_name": "Python 3",
   "language": "python",
   "name": "python3"
  },
  "language_info": {
   "codemirror_mode": {
    "name": "ipython",
    "version": 3
   },
   "file_extension": ".py",
   "mimetype": "text/x-python",
   "name": "python",
   "nbconvert_exporter": "python",
   "pygments_lexer": "ipython3",
   "version": "3.12.6"
  }
 },
 "nbformat": 4,
 "nbformat_minor": 2
}
