{
 "cells": [
  {
   "cell_type": "code",
   "execution_count": null,
   "metadata": {},
   "outputs": [
    {
     "name": "stdout",
     "output_type": "stream",
     "text": [
      "0.5448882165889998\n"
     ]
    }
   ],
   "source": []
  },
  {
   "cell_type": "code",
   "execution_count": null,
   "metadata": {},
   "outputs": [
    {
     "data": {
      "text/plain": [
       "0.45511178341100017"
      ]
     },
     "execution_count": 9,
     "metadata": {},
     "output_type": "execute_result"
    }
   ],
   "source": [
    "# 让2 看table7 \n",
    "# 反正答案大致是45度\n",
    "(162-99.65)/(238.59-99.65)\n",
    "(0.0065-0.0009039)/(0.0132-0.0009039)\n"
   ]
  },
  {
   "cell_type": "code",
   "execution_count": null,
   "metadata": {},
   "outputs": [
    {
     "name": "stdout",
     "output_type": "stream",
     "text": [
      "0.02047268\n",
      "0.0886467044\n"
     ]
    }
   ],
   "source": [
    "# 2\n",
    "\n",
    "m=4.33\n",
    "x1=0.2\n",
    "\n",
    "\n",
    "v1=(0.0007498+0.0007569)/2\n",
    "v2=(0.1068+0.0919)/2\n",
    "\n",
    "\n",
    "v=v1+x1*(v2-v1)\n",
    "print(v*m)\n"
   ]
  },
  {
   "cell_type": "code",
   "execution_count": null,
   "metadata": {},
   "outputs": [
    {
     "name": "stdout",
     "output_type": "stream",
     "text": [
      "0.489920562\n",
      "39.62983966745843\n"
     ]
    }
   ],
   "source": [
    "# 3\n",
    "\n",
    "m=9.72\n",
    "x1=0.5\n",
    "\n",
    "\n",
    "p1=20  \n",
    "t1=212.4 \n",
    "\n",
    "vl=0.0011767\n",
    "vg=0.09963\n",
    "\n",
    "v1=(vl+x1*(vg-vl))*m\n",
    "print(v1)\n",
    "\n",
    "# m不变，找到直接vg就是v1/m的\n",
    "# v2=v1/m\n",
    "# print(v2)\n",
    "\n",
    "# v35=0.057\n",
    "# v40=0.04978\n",
    "\n",
    "# x2=(v2-v35)/(v40-v35)\n",
    "\n",
    "# 这里必须用饱和蒸汽了\n",
    "\n",
    "\n",
    "v30=0.06662\n",
    "v40=0.04978\n",
    "``````````````\n",
    "v2=v1/m\n",
    "\n",
    "x2=(v2-v30)/(v40-v30)\n",
    "\n",
    "p2=30+x2*(40-30)\n",
    "\n",
    "print(p2)\n",
    "\n",
    "\n",
    "\n",
    "\n",
    "\n",
    "\n",
    "# p35=242.6\n",
    "# p40=250.4\n",
    "# p=p35+(p40-p35)*x2\n",
    "\n",
    "# t35=242.6\n",
    "# t40=250.4\n",
    "\n",
    "# t2=x2*(t40-t35)+t35\n",
    "# print(t2)\n",
    "\n",
    "# print(t1/t2*p1)\n"
   ]
  },
  {
   "cell_type": "code",
   "execution_count": 72,
   "metadata": {},
   "outputs": [
    {
     "name": "stdout",
     "output_type": "stream",
     "text": [
      "过热 1.695 2778.6\n",
      "饱和 111.4 2060.55563501611\n",
      "过热 0.26516 3260.6600000000003\n"
     ]
    }
   ],
   "source": [
    "# 先看过热蒸汽，再看饱和态\n",
    "# 4.1\n",
    "v=1.695\n",
    "u=2778.6\n",
    "print(\"过热\",v,u)\n",
    "# 4.2\n",
    "\n",
    "\n",
    "T=111.4\n",
    "v1=0.001053\n",
    "v2=1.159\n",
    "v=0.9\n",
    "x1=(v-v1)/(v2-v1)\n",
    "u1=466.94\n",
    "u2=2519.7\n",
    "\n",
    "u=u1+x1*(u2-u1)\n",
    "# print(u)\n",
    "print(\"饱和\",T,u)\n",
    "\n",
    "# 4.3\n",
    "\n",
    "v10=0.3066\n",
    "v15=0.2030\n",
    "h10=3263.9\n",
    "h15=3255.8\n",
    "x1=(12-10)/(15-10)\n",
    "h12=h10+x1*(h15-h10)\n",
    "v12=v10+x1*(v15-v10)\n",
    "# print()\n",
    "\n",
    "print('过热',v12,h12)\n"
   ]
  },
  {
   "cell_type": "code",
   "execution_count": 94,
   "metadata": {},
   "outputs": [
    {
     "name": "stdout",
     "output_type": "stream",
     "text": [
      "0.036345 275.19\n"
     ]
    }
   ],
   "source": [
    "# 5\n",
    "\n",
    "v7=0.03906 #m**3/kg\n",
    "h7=275.96 #kj/kg\n",
    "\n",
    "v8=0.03363\n",
    "h8=274.42\n",
    "\n",
    "\n",
    "print((v7+v8)/2,(h7+h8)/2)\n"
   ]
  },
  {
   "cell_type": "code",
   "execution_count": null,
   "metadata": {},
   "outputs": [
    {
     "name": "stdout",
     "output_type": "stream",
     "text": [
      "0.0048519984375\n",
      "160.07142857142858\n"
     ]
    }
   ],
   "source": [
    "# 6\n",
    "\n",
    "# 思路 \n",
    "# 第一个状态p1 t1已知，算pr，tr 读图得到z1，用z=p*v/R*T得到v1\n",
    "# 第二个状态p2 v2（=v1）已知 用vr=v*pc/tc/R 算pr vr读图得到z2，用z=p*v/R*T得到t2\n",
    "\n",
    "import numpy as np\n",
    "\n",
    "m = 0.5 # kg\n",
    "P1 = 40.0 # bars\n",
    "T1 = 180.0 # K\n",
    "P2 = 33.0 # bars\n",
    "\n",
    "\n",
    "P1=P1*1e5\n",
    "P2=P2*1e5\n",
    "\n",
    "\n",
    "R=8314/32\n",
    "pc=50.5*1e5\n",
    "tc=154 \n",
    "\n",
    "pr=P1/pc\n",
    "tr=T1/tc\n",
    "\n",
    "# print(pr,tr)\n",
    "# 读图 \n",
    "Z1=0.83\n",
    "# 这里不知道为什么 我读的明明是0.82 但是必须要0.83答案才是对的，只能说这种题还是要稍微改改读的值的\n",
    "v1=Z1*R*T1/P1\n",
    "V1=v1*m\n",
    "print(V1)\n",
    "\n",
    "\n",
    "vr=v1*pc/tc/R\n",
    "pr2=P2/pc\n",
    "# print(vr,pr2)\n",
    "# 读图\n",
    "Z2=0.77\n",
    "t2=P2*v1/R/Z2\n",
    "print(t2)"
   ]
  },
  {
   "cell_type": "code",
   "execution_count": null,
   "metadata": {},
   "outputs": [
    {
     "name": "stdout",
     "output_type": "stream",
     "text": [
      "0.38174438222261947\n"
     ]
    }
   ],
   "source": [
    "# 7\n",
    "\n",
    "\n",
    "\n",
    "v1=0.00109\n",
    "v2=0.3928\n",
    "\n",
    "lg=29\n",
    "ll=21\n",
    "\n",
    "# x1=l1/v1\n",
    "# x2=l2/v2\n",
    "\n",
    "\n",
    "# x=x1/(x1+x2)\n",
    "# print((x)*100)\n",
    "\n",
    "# print((l1)/(l1+l2)*100)\n",
    "\n",
    "\n",
    "\n",
    "roul=1/v1  #liquid\n",
    "roug=1/v2 \n",
    "\n",
    "x1=roug*lg/(roul*ll+roug*lg)\n",
    "print((x1)*100)\n",
    "\n",
    "\n",
    "\n",
    "# 错误原因 gas liquid错了 原图 图标数据没有对应起来\n",
    "# 错误原因 *100\n",
    "# 错误原因 是gas/总\n",
    "\n"
   ]
  }
 ],
 "metadata": {
  "kernelspec": {
   "display_name": "Python 3",
   "language": "python",
   "name": "python3"
  },
  "language_info": {
   "codemirror_mode": {
    "name": "ipython",
    "version": 3
   },
   "file_extension": ".py",
   "mimetype": "text/x-python",
   "name": "python",
   "nbconvert_exporter": "python",
   "pygments_lexer": "ipython3",
   "version": "3.9.6"
  }
 },
 "nbformat": 4,
 "nbformat_minor": 2
}
