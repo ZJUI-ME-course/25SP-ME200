{
 "cells": [
  {
   "cell_type": "code",
   "execution_count": null,
   "metadata": {},
   "outputs": [
    {
     "name": "stdout",
     "output_type": "stream",
     "text": [
      "0.5448882165889998\n"
     ]
    }
   ],
   "source": []
  },
  {
   "cell_type": "code",
   "execution_count": null,
   "metadata": {},
   "outputs": [
    {
     "data": {
      "text/plain": [
       "0.45511178341100017"
      ]
     },
     "execution_count": 9,
     "metadata": {},
     "output_type": "execute_result"
    }
   ],
   "source": [
    "# 让2 看table7 \n",
    "# 反正答案大致是45度\n",
    "(162-99.65)/(238.59-99.65)\n",
    "(0.0065-0.0009039)/(0.0132-0.0009039)\n"
   ]
  },
  {
   "cell_type": "code",
   "execution_count": null,
   "metadata": {},
   "outputs": [
    {
     "name": "stdout",
     "output_type": "stream",
     "text": [
      "0.02047268\n",
      "0.0886467044\n"
     ]
    }
   ],
   "source": [
    "# 2\n",
    "\n",
    "m=4.33\n",
    "x1=0.2\n",
    "\n",
    "\n",
    "v1=(0.0007498+0.0007569)/2\n",
    "v2=(0.1068+0.0919)/2\n",
    "\n",
    "\n",
    "v=v1+x1*(v2-v1)\n",
    "print(v*m)\n"
   ]
  },
  {
   "cell_type": "code",
   "execution_count": 119,
   "metadata": {},
   "outputs": [
    {
     "name": "stdout",
     "output_type": "stream",
     "text": [
      "0.489920562\n",
      "39.62983966745843\n"
     ]
    }
   ],
   "source": [
    "# 3\n",
    "\n",
    "m=9.72\n",
    "x1=0.5\n",
    "\n",
    "\n",
    "p1=20  \n",
    "t1=212.4 \n",
    "\n",
    "vl=0.0011767\n",
    "vg=0.09963\n",
    "\n",
    "v1=(vl+x1*(vg-vl))*m\n",
    "print(v1)\n",
    "\n",
    "# m不变，找到直接vg就是v1/m的\n",
    "# v2=v1/m\n",
    "# print(v2)\n",
    "\n",
    "# v35=0.057\n",
    "# v40=0.04978\n",
    "\n",
    "# x2=(v2-v35)/(v40-v35)\n",
    "\n",
    "# 这里必须用饱和蒸汽了\n",
    "\n",
    "\n",
    "v30=0.06662\n",
    "v40=0.04978\n",
    "\n",
    "v2=v1/m\n",
    "\n",
    "x2=(v2-v30)/(v40-v30)\n",
    "\n",
    "p2=30+x2*(40-30)\n",
    "\n",
    "print(p2)\n",
    "\n",
    "\n",
    "\n",
    "\n",
    "\n",
    "\n",
    "# p35=242.6\n",
    "# p40=250.4\n",
    "# p=p35+(p40-p35)*x2\n",
    "\n",
    "# t35=242.6\n",
    "# t40=250.4\n",
    "\n",
    "# t2=x2*(t40-t35)+t35\n",
    "# print(t2)\n",
    "\n",
    "# print(t1/t2*p1)\n"
   ]
  },
  {
   "cell_type": "code",
   "execution_count": 72,
   "metadata": {},
   "outputs": [
    {
     "name": "stdout",
     "output_type": "stream",
     "text": [
      "过热 1.695 2778.6\n",
      "饱和 111.4 2060.55563501611\n",
      "过热 0.26516 3260.6600000000003\n"
     ]
    }
   ],
   "source": [
    "# 先看过热蒸汽，再看饱和态\n",
    "# 4.1\n",
    "v=1.695\n",
    "u=2778.6\n",
    "print(\"过热\",v,u)\n",
    "# 4.2\n",
    "\n",
    "\n",
    "T=111.4\n",
    "v1=0.001053\n",
    "v2=1.159\n",
    "v=0.9\n",
    "x1=(v-v1)/(v2-v1)\n",
    "u1=466.94\n",
    "u2=2519.7\n",
    "\n",
    "u=u1+x1*(u2-u1)\n",
    "# print(u)\n",
    "print(\"饱和\",T,u)\n",
    "\n",
    "# 4.3\n",
    "\n",
    "v10=0.3066\n",
    "v15=0.2030\n",
    "h10=3263.9\n",
    "h15=3255.8\n",
    "x1=(12-10)/(15-10)\n",
    "h12=h10+x1*(h15-h10)\n",
    "v12=v10+x1*(v15-v10)\n",
    "# print()\n",
    "\n",
    "print('过热',v12,h12)\n"
   ]
  },
  {
   "cell_type": "code",
   "execution_count": 94,
   "metadata": {},
   "outputs": [
    {
     "name": "stdout",
     "output_type": "stream",
     "text": [
      "0.036345 275.19\n"
     ]
    }
   ],
   "source": [
    "# 5\n",
    "\n",
    "v7=0.03906 #m**3/kg\n",
    "h7=275.96 #kj/kg\n",
    "\n",
    "v8=0.03363\n",
    "h8=274.42\n",
    "\n",
    "\n",
    "print((v7+v8)/2,(h7+h8)/2)\n"
   ]
  },
  {
   "cell_type": "code",
   "execution_count": 64,
   "metadata": {},
   "outputs": [
    {
     "name": "stdout",
     "output_type": "stream",
     "text": [
      "容器体积 0.0029111990625\n",
      "0.960667615474188 0.6543723973825104\n",
      "最终温度 159.24418604651163\n"
     ]
    }
   ],
   "source": [
    "# 6\n",
    "import numpy as np\n",
    "\n",
    "\n",
    "m = 0.3 # kg (题目条件)\n",
    "P1 = 40.0 * 1e5  # Pa (40 bar → 4.0 MPa)\n",
    "T1 = 180.0       # K\n",
    "P2 = 33.0 * 1e5  # Pa (33 bar → 3.3 MPa)\n",
    "pc = 50.43e5     # Pa (氧气临界压力50.43 bar)\n",
    "tc = 154.58      # K (氧气临界温度)\n",
    "\n",
    "\n",
    "\n",
    "\n",
    "# 计算对比参数\n",
    "R = 8314 / 32    # J/(kg·K) (氧气气体常数)\n",
    "Tr_initial = T1 / tc\n",
    "Pr_initial = P1 / pc\n",
    "# print(f\"对比温度 Tr = {Tr_initial:.2f}, 对比压力 Pr = {Pr_initial:.2f}\")\n",
    "\n",
    "# 查压缩因子图（假设此处 Z1=0.83 合理）\n",
    "Z1 = 0.83\n",
    "\n",
    "# 计算容器体积\n",
    "V = (Z1 * R * T1 * m) / P1\n",
    "print('容器体积',V)\n",
    "\n",
    "\n",
    "\n",
    "# 计算最终温度 T2（假设等容且 Z2 ≈ Z1）\n",
    "# 迭代方法示例：\n",
    "\n",
    "\n",
    "Z2 = Z1  # 初始假设\n",
    "T2_guess = T1 * (P2 / P1)  # 理想气体假设\n",
    "\n",
    "#========================================================================\n",
    "Tr_final = T2_guess / tc\n",
    "Pr_final = P2 / pc\n",
    "print(Tr_final,Pr_final)\n",
    "# 假设查图得 Z2=0.85（示例值，需根据实际图表调整）\n",
    "Z2 = 0.774\n",
    "T2_guess = (P2 * Z1 * T1) / (P1 * Z2)  # 修正公式\n",
    "\n",
    "print('最终温度',T2_guess)\n",
    "\n",
    "\n",
    "# 完全不会\n"
   ]
  },
  {
   "cell_type": "code",
   "execution_count": null,
   "metadata": {},
   "outputs": [
    {
     "name": "stdout",
     "output_type": "stream",
     "text": [
      "0.38174438222261947\n"
     ]
    }
   ],
   "source": [
    "# 7\n",
    "\n",
    "\n",
    "\n",
    "v1=0.00109\n",
    "v2=0.3928\n",
    "\n",
    "lg=29\n",
    "ll=21\n",
    "\n",
    "# x1=l1/v1\n",
    "# x2=l2/v2\n",
    "\n",
    "\n",
    "# x=x1/(x1+x2)\n",
    "# print((x)*100)\n",
    "\n",
    "# print((l1)/(l1+l2)*100)\n",
    "\n",
    "\n",
    "\n",
    "roul=1/v1  #liquid\n",
    "roug=1/v2 \n",
    "\n",
    "x1=roug*lg/(roul*ll+roug*lg)\n",
    "print((x1)*100)\n",
    "\n",
    "\n",
    "\n",
    "# 错误原因 gas liquid错了 原图 图标数据没有对应起来\n",
    "# 错误原因 *100\n",
    "# 错误原因 是gas/总\n",
    "\n"
   ]
  }
 ],
 "metadata": {
  "kernelspec": {
   "display_name": "Python 3",
   "language": "python",
   "name": "python3"
  },
  "language_info": {
   "codemirror_mode": {
    "name": "ipython",
    "version": 3
   },
   "file_extension": ".py",
   "mimetype": "text/x-python",
   "name": "python",
   "nbconvert_exporter": "python",
   "pygments_lexer": "ipython3",
   "version": "3.12.6"
  }
 },
 "nbformat": 4,
 "nbformat_minor": 2
}
