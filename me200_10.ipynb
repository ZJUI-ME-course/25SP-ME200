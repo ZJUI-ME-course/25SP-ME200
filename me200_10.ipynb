{
 "cells": [
  {
   "cell_type": "code",
   "execution_count": null,
   "id": "1853a88f",
   "metadata": {},
   "outputs": [],
   "source": [
    "# 1\n",
    "1"
   ]
  }
 ],
 "metadata": {
  "language_info": {
   "name": "python"
  }
 },
 "nbformat": 4,
 "nbformat_minor": 5
}
