{
 "cells": [
  {
   "cell_type": "code",
   "execution_count": null,
   "metadata": {},
   "outputs": [
    {
     "name": "stdout",
     "output_type": "stream",
     "text": [
      "12.028058\n",
      "0.8772025999999999\n",
      "410.8807\n",
      "0.11528796666666666\n",
      "56.3301892\n",
      "0.40114333333333335\n",
      "1123.31932\n",
      "17779.288\n"
     ]
    }
   ],
   "source": [
    "# hw1-2\n",
    "\n",
    "# 1 in**3=0.016387 L\n",
    "print(734*0.016387)\n",
    "\n",
    "# 英尺 \n",
    "# 1 ft*lbf =1.3558 J\n",
    "# 1 J =1/1000 KJ\n",
    "print(647*1.3558/1000)\n",
    "\n",
    "# 1 hp = 0.7457 kW\n",
    "print(551*0.7457)\n",
    "\n",
    "# 1 lb/h =0.45359 kg\n",
    "# 1 hour = 3600 s\n",
    "print(915*0.453592/3600)\n",
    "\n",
    "# 1 lbf/in**2 = 0.06894 bar\n",
    "# 1 bar= 10**5 pa\n",
    "print(817*0.0689476)\n",
    "\n",
    "# 1 ft**3 =0.0283168 m**3\n",
    "# 1 min = 60 s\n",
    "print(850*0.028316/60)\n",
    "\n",
    "# 1 mile = 1.60934 km\n",
    "print(698*1.60934)\n",
    "\n",
    "# 1 ton =2000 lbf \n",
    "# 1 lbf =4.44822 N\n",
    "print(2*2000*4.444822)\n",
    "\n",
    "# 长度\n",
    "# 1 ft**3 =0.0283168 m**3\n",
    "# 1 in =25.4 mm=0.0254 m\n",
    "\n",
    "# 力\n",
    "# 1 lbf =4.44822 N\n",
    "# 1 pa = 1 N/m**2 \n",
    "# 1 N =1 kg* 9.81(m/s**2) \n",
    "\n",
    "# 密度单位 \n",
    "# 1 kg/m**3\n",
    "\n",
    "# 重量\n",
    "# 1 lb= 0.453592 kg\n",
    "\n",
    "\n",
    "# g是9.8 m/s**2\n",
    "\n",
    "\n",
    "\n"
   ]
  },
  {
   "cell_type": "code",
   "execution_count": null,
   "metadata": {},
   "outputs": [],
   "source": [
    "# 12.028058\n",
    "# 0.8772025999999999\n",
    "# 410.8807\n",
    "# 0.11528796666666666\n",
    "# 56.3301892\n",
    "# 0.40114333333333335\n",
    "# 1123.31932\n",
    "# 17779.288\n"
   ]
  },
  {
   "cell_type": "code",
   "execution_count": null,
   "metadata": {},
   "outputs": [
    {
     "name": "stdout",
     "output_type": "stream",
     "text": [
      "1570.7963267948967\n",
      "1345.1663267948966\n"
     ]
    }
   ],
   "source": [
    "# hw1-4\n",
    "from math import pi\n",
    "Ashaft=0.80 # cm**2\n",
    "pgas=3 # bar\n",
    "pgas=3*10**5 # pa\n",
    "mpiston=21 # kg\n",
    "mshaft=2  #kg\n",
    "dpiston=10 # cm\n",
    "patm=1*10**5 # bar\n",
    "g=9.81 # m/s**2\n",
    "\n",
    "# 1 bar =1*10**5 pa\n",
    "\n",
    "Apiston=dpiston**2/4*pi*10**(-4) # m**2\n",
    "\n",
    "# fgas-fatm-(mshaft+mpiston)*g\n",
    "print((pgas-patm)*Apiston)\n",
    "\n",
    "F=(pgas-patm)*Apiston-(mshaft+mpiston)*g\n",
    "print(F)\n"
   ]
  },
  {
   "cell_type": "code",
   "execution_count": 13,
   "metadata": {},
   "outputs": [
    {
     "name": "stdout",
     "output_type": "stream",
     "text": [
      "750.0868225497101\n",
      "29.530977265736617\n"
     ]
    }
   ],
   "source": [
    "# hw1-5\n",
    "roum=13.59 #g/cm**3\n",
    "roum=13.59*10**3 # kg/m**3\n",
    "patm=100*10**3 # pa\n",
    "g=9.81 # m/s**2\n",
    "\n",
    "h=patm/g/roum #m\n",
    "# 1 m=10**3 mm\n",
    "print(h*10**3)\n",
    "\n",
    "# 1mm=1/25.4 inch \n",
    "print(h*10**3/25.4)\n",
    "\n"
   ]
  },
  {
   "cell_type": "code",
   "execution_count": null,
   "metadata": {},
   "outputs": [
    {
     "name": "stdout",
     "output_type": "stream",
     "text": [
      "18.51531551769211\n"
     ]
    }
   ],
   "source": [
    "# hw1-6\n",
    "\n",
    "\n",
    "# 长度\n",
    "# 1 ft**3 =0.0283168 m**3\n",
    "# 1 in =25.4 mm=0.0254 m\n",
    "# 1 ft= 0.3048 m\n",
    "# 力\n",
    "# 1 lbf =4.44822 N\n",
    "# 1 pa = 1 N/m**2 \n",
    "# 1 N =1 kg* 9.81(m/s**2) \n",
    "\n",
    "# 密度单位 \n",
    "# 1 kg/m**3\n",
    "\n",
    "# 重量\n",
    "# 1 lb= 0.453592 kg\n",
    "\n",
    "\n",
    "# g=9.81 m/s**2=32.2 ft/s**2\n",
    "\n",
    "# 1 N= 1kg*m/s**2\n",
    "\n",
    "# 压强\n",
    "# 1 psig=1 bf/in**2 =6894 kg/m**3 =6894 pa\n",
    "# 1 pa =1n/m**2\n",
    "\n",
    "\n",
    "rouo=55  #lb/ft**3\n",
    "rouo=rouo*0.453592/0.0283168 #kg/m**3\n",
    "\n",
    "roum=845\n",
    "roum=roum*0.453592/0.0283168 #kg/m**3\n",
    "\n",
    "\n",
    "l1=10 # ft\n",
    "l1=l1*0.3048 # m\n",
    "l2=3 #ft\n",
    "l2=l2*0.3048 # m\n",
    "l3=4\n",
    "l3=l3*0.3048 # m\n",
    "\n",
    "g=9.81 # m/s**2\n",
    "\n",
    "# patm=101325 # pa\n",
    "pair=roum*g*(l3)-rouo*g*(l1+l2) # pa\n",
    "pair=pair/6894\n",
    "print(pair)\n",
    "\n",
    "\n",
    "# 注意pgage为压强差值\n",
    "\n",
    "\n",
    "\n",
    "\n"
   ]
  },
  {
   "cell_type": "code",
   "execution_count": null,
   "metadata": {},
   "outputs": [
    {
     "name": "stdout",
     "output_type": "stream",
     "text": [
      "156.0\n"
     ]
    }
   ],
   "source": [
    "# hw1-7\n",
    "pgage= # psig\n",
    "patm=14.5 # psg\n",
    "ratio=7\n",
    "\n",
    "pin=pgage+patm\n",
    "pout=ratio*pin\n",
    "print(pout)\n",
    "\n",
    "\n",
    "\n"
   ]
  }
 ],
 "metadata": {
  "kernelspec": {
   "display_name": "Python 3",
   "language": "python",
   "name": "python3"
  },
  "language_info": {
   "codemirror_mode": {
    "name": "ipython",
    "version": 3
   },
   "file_extension": ".py",
   "mimetype": "text/x-python",
   "name": "python",
   "nbconvert_exporter": "python",
   "pygments_lexer": "ipython3",
   "version": "3.9.6"
  }
 },
 "nbformat": 4,
 "nbformat_minor": 2
}
