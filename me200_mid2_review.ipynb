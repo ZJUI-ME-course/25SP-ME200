{
 "cells": [
  {
   "cell_type": "code",
   "execution_count": null,
   "id": "b9c2126c",
   "metadata": {},
   "outputs": [
    {
     "name": "stdout",
     "output_type": "stream",
     "text": [
      "0.957725587144623\n"
     ]
    }
   ],
   "source": [
    "# 课本4。10 throttling\n",
    "\n",
    "from sympy import *\n",
    "\n",
    "hl=394;hg=1203\n",
    "\n",
    "h2=1168.8\n",
    "\n",
    "x=S('x')\n",
    "q1=hl*(1-x)+hg*(x)-h2\n",
    "\n",
    "x=(hl-h2)/(hl-hg)\n",
    "print(x)\n"
   ]
  },
  {
   "cell_type": "code",
   "execution_count": null,
   "id": "a13297b8",
   "metadata": {},
   "outputs": [],
   "source": [
    "# 5.1 单位换算\n",
    "# 5.2 \n",
    "# 5.3 两个turbine一个heat exchanger turbine用W=m_dot*(h1-h2),heat exchaner用(T1-T2)*m_dot*cp1=(T3-T4)*m_dot2*cp2\n",
    "# 5.4 漏气漏到液体占一半质量，求Q，dertam\n",
    "# 6.1\n",
    "# 6.2\n",
    "# 6.3\n",
    "# 6.4\n",
    "# 6.5"
   ]
  },
  {
   "cell_type": "code",
   "execution_count": null,
   "id": "9336cf94",
   "metadata": {},
   "outputs": [],
   "source": [
    "s2=\n"
   ]
  }
 ],
 "metadata": {
  "kernelspec": {
   "display_name": "Python 3",
   "language": "python",
   "name": "python3"
  },
  "language_info": {
   "codemirror_mode": {
    "name": "ipython",
    "version": 3
   },
   "file_extension": ".py",
   "mimetype": "text/x-python",
   "name": "python",
   "nbconvert_exporter": "python",
   "pygments_lexer": "ipython3",
   "version": "3.9.6"
  }
 },
 "nbformat": 4,
 "nbformat_minor": 5
}
