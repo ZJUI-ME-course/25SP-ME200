{
 "cells": [
  {
   "cell_type": "code",
   "execution_count": 2,
   "id": "5852374d",
   "metadata": {},
   "outputs": [
    {
     "name": "stdout",
     "output_type": "stream",
     "text": [
      "Actual operating cost: 289.54 cents\n",
      "Minimum theoretical operating cost: 27111869.36 cents\n"
     ]
    }
   ],
   "source": [
    "# 定义参数\n",
    "price = 9.00  # 电价，单位为美分每千瓦时（cents/kWh）\n",
    "T_H = 68.00  # 室内温度，单位为°F\n",
    "T_L = 35.00  # 室外温度，单位为°F\n",
    "Q_pump = 30000.00  # 热泵提供的热流量，单位为Btu/h\n",
    "W_input = 1.00  # 热泵的功率输入，单位为hp\n",
    "\n",
    "# 转换因子\n",
    "conversion_factor = 0.746  # 将马力转换为千瓦的因子\n",
    "\n",
    "# 实际运行成本\n",
    "cost_actual = (W_input * price * 24) / conversion_factor\n",
    "\n",
    "# 卡诺效率\n",
    "Carnot_efficiency = (T_H - T_L) / (T_H + T_L)\n",
    "\n",
    "# 理论上的最低运行成本\n",
    "cost_theo = (Q_pump * price * 24) / (Carnot_efficiency * conversion_factor)\n",
    "\n",
    "# 输出结果\n",
    "print(f'Actual operating cost: {cost_actual:.2f} cents')\n",
    "print(f'Minimum theoretical operating cost: {cost_theo:.2f} cents')"
   ]
  }
 ],
 "metadata": {
  "kernelspec": {
   "display_name": "Python 3",
   "language": "python",
   "name": "python3"
  },
  "language_info": {
   "codemirror_mode": {
    "name": "ipython",
    "version": 3
   },
   "file_extension": ".py",
   "mimetype": "text/x-python",
   "name": "python",
   "nbconvert_exporter": "python",
   "pygments_lexer": "ipython3",
   "version": "3.9.6"
  }
 },
 "nbformat": 4,
 "nbformat_minor": 5
}
