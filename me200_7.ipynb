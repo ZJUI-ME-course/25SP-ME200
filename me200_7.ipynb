{
 "cells": [
  {
   "cell_type": "code",
   "execution_count": 10,
   "id": "a3e24935",
   "metadata": {},
   "outputs": [
    {
     "name": "stdout",
     "output_type": "stream",
     "text": [
      "687.5630000000001\n",
      "-7.637000000000029\n"
     ]
    }
   ],
   "source": [
    "# \n",
    "m_dot=4.7\n",
    "Wout=-2.5*60 #kW\n",
    "\n",
    "\n",
    "h1=239.71\n",
    "h2=270\n",
    "\n",
    "\n",
    "Q3=m_dot*(239.71-93.42)\n",
    "print(Q3)\n",
    "\n",
    "Q2=Wout-m_dot*(h1-h2)\n",
    "print(Q2)"
   ]
  }
 ],
 "metadata": {
  "kernelspec": {
   "display_name": "Python 3",
   "language": "python",
   "name": "python3"
  },
  "language_info": {
   "codemirror_mode": {
    "name": "ipython",
    "version": 3
   },
   "file_extension": ".py",
   "mimetype": "text/x-python",
   "name": "python",
   "nbconvert_exporter": "python",
   "pygments_lexer": "ipython3",
   "version": "3.9.6"
  }
 },
 "nbformat": 4,
 "nbformat_minor": 5
}
